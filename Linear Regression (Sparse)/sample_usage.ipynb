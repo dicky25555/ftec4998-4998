{
 "cells": [
  {
   "cell_type": "code",
   "execution_count": 22,
   "metadata": {},
   "outputs": [],
   "source": [
    "import pandas as pd\n",
    "\n",
    "from solve import solve\n",
    "from initialization import generate_synthetic_data"
   ]
  },
  {
   "cell_type": "code",
   "execution_count": null,
   "metadata": {},
   "outputs": [],
   "source": [
    "import pandas as pd"
   ]
  },
  {
   "cell_type": "code",
   "execution_count": 19,
   "metadata": {},
   "outputs": [],
   "source": [
    "# Generate 1000 samples with 1000 features and zero correlation, along with the true regressor coefficient\n",
    "\n",
    "x, y, b = generate_synthetic_data(n=1000, p=1000, supp_size=10, corr=0.0)\n"
   ]
  },
  {
   "cell_type": "code",
   "execution_count": 20,
   "metadata": {},
   "outputs": [
    {
     "name": "stdout",
     "output_type": "stream",
     "text": [
      "Iteration 1:\n",
      "Current eta: 0.20451536968496647\n",
      "Current cost: 0.2337969895813257\n",
      "\n",
      "Iteration 2:\n",
      "Current eta: 0.17962914957758314\n",
      "Current cost: 0.22437247486801257\n",
      "\n",
      "Iteration 3:\n",
      "Current eta: 0.16596387312506874\n",
      "Current cost: 0.21846831687601065\n",
      "\n",
      "Iteration 4:\n",
      "Current eta: 0.14473043048553086\n",
      "Current cost: 0.2104844883804401\n",
      "\n",
      "Iteration 5:\n",
      "Current eta: 0.1420168189495984\n",
      "Current cost: 0.2037913505830772\n",
      "\n",
      "Iteration 6:\n",
      "Current eta: 0.1430746877171334\n",
      "Current cost: 0.19470932218986597\n",
      "\n",
      "Iteration 7:\n",
      "Current eta: 0.15181280036004047\n",
      "Current cost: 0.18774365816665275\n",
      "\n",
      "Iteration 8:\n",
      "Current eta: 0.15520711559906378\n",
      "Current cost: 0.17977516931656232\n",
      "\n",
      "Iteration 9:\n",
      "Current eta: 0.16261813863501334\n",
      "Current cost: 0.17404957177969993\n",
      "\n"
     ]
    }
   ],
   "source": [
    "# Get the beta and support from the algorihtm\n",
    "\n",
    "beta, support = solve(x, y, supp_size=10, gamma=0.5)"
   ]
  },
  {
   "cell_type": "code",
   "execution_count": 23,
   "metadata": {},
   "outputs": [
    {
     "data": {
      "text/html": [
       "<div>\n",
       "<style scoped>\n",
       "    .dataframe tbody tr th:only-of-type {\n",
       "        vertical-align: middle;\n",
       "    }\n",
       "\n",
       "    .dataframe tbody tr th {\n",
       "        vertical-align: top;\n",
       "    }\n",
       "\n",
       "    .dataframe thead th {\n",
       "        text-align: right;\n",
       "    }\n",
       "</style>\n",
       "<table border=\"1\" class=\"dataframe\">\n",
       "  <thead>\n",
       "    <tr style=\"text-align: right;\">\n",
       "      <th></th>\n",
       "      <th>0</th>\n",
       "    </tr>\n",
       "  </thead>\n",
       "  <tbody>\n",
       "    <tr>\n",
       "      <th>0</th>\n",
       "      <td>0.101257</td>\n",
       "    </tr>\n",
       "    <tr>\n",
       "      <th>1</th>\n",
       "      <td>0.000000</td>\n",
       "    </tr>\n",
       "    <tr>\n",
       "      <th>2</th>\n",
       "      <td>0.000000</td>\n",
       "    </tr>\n",
       "    <tr>\n",
       "      <th>3</th>\n",
       "      <td>0.000000</td>\n",
       "    </tr>\n",
       "    <tr>\n",
       "      <th>4</th>\n",
       "      <td>0.000000</td>\n",
       "    </tr>\n",
       "    <tr>\n",
       "      <th>...</th>\n",
       "      <td>...</td>\n",
       "    </tr>\n",
       "    <tr>\n",
       "      <th>995</th>\n",
       "      <td>0.000000</td>\n",
       "    </tr>\n",
       "    <tr>\n",
       "      <th>996</th>\n",
       "      <td>0.000000</td>\n",
       "    </tr>\n",
       "    <tr>\n",
       "      <th>997</th>\n",
       "      <td>0.000000</td>\n",
       "    </tr>\n",
       "    <tr>\n",
       "      <th>998</th>\n",
       "      <td>0.000000</td>\n",
       "    </tr>\n",
       "    <tr>\n",
       "      <th>999</th>\n",
       "      <td>0.000000</td>\n",
       "    </tr>\n",
       "  </tbody>\n",
       "</table>\n",
       "<p>1000 rows × 1 columns</p>\n",
       "</div>"
      ],
      "text/plain": [
       "            0\n",
       "0    0.101257\n",
       "1    0.000000\n",
       "2    0.000000\n",
       "3    0.000000\n",
       "4    0.000000\n",
       "..        ...\n",
       "995  0.000000\n",
       "996  0.000000\n",
       "997  0.000000\n",
       "998  0.000000\n",
       "999  0.000000\n",
       "\n",
       "[1000 rows x 1 columns]"
      ]
     },
     "execution_count": 23,
     "metadata": {},
     "output_type": "execute_result"
    }
   ],
   "source": [
    "pd.DataFrame(beta)"
   ]
  },
  {
   "cell_type": "code",
   "execution_count": null,
   "metadata": {},
   "outputs": [],
   "source": []
  }
 ],
 "metadata": {
  "kernelspec": {
   "display_name": "Python 3",
   "language": "python",
   "name": "python3"
  },
  "language_info": {
   "codemirror_mode": {
    "name": "ipython",
    "version": 3
   },
   "file_extension": ".py",
   "mimetype": "text/x-python",
   "name": "python",
   "nbconvert_exporter": "python",
   "pygments_lexer": "ipython3",
   "version": "3.7.8"
  }
 },
 "nbformat": 4,
 "nbformat_minor": 4
}
